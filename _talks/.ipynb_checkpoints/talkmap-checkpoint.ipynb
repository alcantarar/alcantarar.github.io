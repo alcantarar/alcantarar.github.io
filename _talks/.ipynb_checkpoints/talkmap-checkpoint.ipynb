{
 "cells": [
  {
   "cell_type": "markdown",
   "metadata": {},
   "source": [
    "# Leaflet cluster map of talk locations\n",
    "\n",
    "Run this from the _talks/ directory, which contains .md files of all your talks. This scrapes the location YAML field from each .md file, geolocates it with geopy/Nominatim, and uses the getorg library to output data, HTML, and Javascript for a standalone cluster map."
   ]
  },
  {
   "cell_type": "code",
   "execution_count": 4,
   "metadata": {},
   "outputs": [
    {
     "name": "stdout",
     "output_type": "stream",
     "text": [
      "Requirement already up-to-date: getorg in /anaconda3/lib/python3.7/site-packages (0.3.1)\n",
      "Requirement already satisfied, skipping upgrade: retrying in /anaconda3/lib/python3.7/site-packages (from getorg) (1.3.3)\n",
      "Requirement already satisfied, skipping upgrade: pygithub in /anaconda3/lib/python3.7/site-packages (from getorg) (1.43.6)\n",
      "Requirement already satisfied, skipping upgrade: geopy in /anaconda3/lib/python3.7/site-packages (from getorg) (1.19.0)\n",
      "Requirement already satisfied, skipping upgrade: six>=1.7.0 in /anaconda3/lib/python3.7/site-packages (from retrying->getorg) (1.11.0)\n",
      "Requirement already satisfied, skipping upgrade: pyjwt in /anaconda3/lib/python3.7/site-packages (from pygithub->getorg) (1.7.1)\n",
      "Requirement already satisfied, skipping upgrade: deprecated in /anaconda3/lib/python3.7/site-packages (from pygithub->getorg) (1.2.5)\n",
      "Requirement already satisfied, skipping upgrade: requests>=2.14.0 in /anaconda3/lib/python3.7/site-packages (from pygithub->getorg) (2.19.1)\n",
      "Requirement already satisfied, skipping upgrade: geographiclib<2,>=1.49 in /anaconda3/lib/python3.7/site-packages (from geopy->getorg) (1.49)\n",
      "Requirement already satisfied, skipping upgrade: wrapt<2,>=1 in /anaconda3/lib/python3.7/site-packages (from deprecated->pygithub->getorg) (1.10.11)\n",
      "Requirement already satisfied, skipping upgrade: urllib3<1.24,>=1.21.1 in /anaconda3/lib/python3.7/site-packages (from requests>=2.14.0->pygithub->getorg) (1.23)\n",
      "Requirement already satisfied, skipping upgrade: chardet<3.1.0,>=3.0.2 in /anaconda3/lib/python3.7/site-packages (from requests>=2.14.0->pygithub->getorg) (3.0.4)\n",
      "Requirement already satisfied, skipping upgrade: idna<2.8,>=2.5 in /anaconda3/lib/python3.7/site-packages (from requests>=2.14.0->pygithub->getorg) (2.7)\n",
      "Requirement already satisfied, skipping upgrade: certifi>=2017.4.17 in /anaconda3/lib/python3.7/site-packages (from requests>=2.14.0->pygithub->getorg) (2018.8.24)\n"
     ]
    }
   ],
   "source": [
    "!pip install getorg --upgrade\n",
    "import glob\n",
    "import getorg\n",
    "from geopy import Nominatim"
   ]
  },
  {
   "cell_type": "code",
   "execution_count": 6,
   "metadata": {},
   "outputs": [],
   "source": [
    "g = glob.glob(\"*.md\")"
   ]
  },
  {
   "cell_type": "code",
   "execution_count": 3,
   "metadata": {
    "collapsed": true
   },
   "outputs": [],
   "source": [
    "geocoder = Nominatim()\n",
    "location_dict = {}\n",
    "location = \"\"\n",
    "permalink = \"\"\n",
    "title = \"\""
   ]
  },
  {
   "cell_type": "code",
   "execution_count": 4,
   "metadata": {},
   "outputs": [
    {
     "name": "stdout",
     "output_type": "stream",
     "text": [
      "Berkeley CA, USA \n",
      " Berkeley, Alameda County, California, United States of America\n",
      "Los Angeles, CA \n",
      " LA, Los Angeles County, California, United States of America\n",
      "London, UK \n",
      " London, Greater London, England, UK\n",
      "San Francisco, California \n",
      " SF, California, United States of America\n"
     ]
    }
   ],
   "source": [
    "\n",
    "for file in g:\n",
    "    with open(file, 'r') as f:\n",
    "        lines = f.read()\n",
    "        if lines.find('location: \"') > 1:\n",
    "            loc_start = lines.find('location: \"') + 11\n",
    "            lines_trim = lines[loc_start:]\n",
    "            loc_end = lines_trim.find('\"')\n",
    "            location = lines_trim[:loc_end]\n",
    "                            \n",
    "           \n",
    "        location_dict[location] = geocoder.geocode(location)\n",
    "        print(location, \"\\n\", location_dict[location])\n"
   ]
  },
  {
   "cell_type": "code",
   "execution_count": 5,
   "metadata": {},
   "outputs": [
    {
     "data": {
      "text/plain": [
       "'Written map to ../talkmap/'"
      ]
     },
     "execution_count": 5,
     "metadata": {},
     "output_type": "execute_result"
    }
   ],
   "source": [
    "m = getorg.orgmap.create_map_obj()\n",
    "getorg.orgmap.output_html_cluster_map(location_dict, folder_name=\"../talkmap\", hashed_usernames=False)"
   ]
  },
  {
   "cell_type": "code",
   "execution_count": null,
   "metadata": {
    "collapsed": true
   },
   "outputs": [],
   "source": []
  }
 ],
 "metadata": {
  "anaconda-cloud": {},
  "kernelspec": {
   "display_name": "Python 3",
   "language": "python",
   "name": "python3"
  },
  "language_info": {
   "codemirror_mode": {
    "name": "ipython",
    "version": 3
   },
   "file_extension": ".py",
   "mimetype": "text/x-python",
   "name": "python",
   "nbconvert_exporter": "python",
   "pygments_lexer": "ipython3",
   "version": "3.7.0"
  }
 },
 "nbformat": 4,
 "nbformat_minor": 1
}
